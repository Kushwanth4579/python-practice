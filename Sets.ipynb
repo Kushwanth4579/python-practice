{
  "nbformat": 4,
  "nbformat_minor": 0,
  "metadata": {
    "colab": {
      "name": "Sets.ipynb",
      "provenance": [],
      "authorship_tag": "ABX9TyNF346epS9vFrda78PF2EQb",
      "include_colab_link": true
    },
    "kernelspec": {
      "name": "python3",
      "display_name": "Python 3"
    },
    "language_info": {
      "name": "python"
    }
  },
  "cells": [
    {
      "cell_type": "markdown",
      "metadata": {
        "id": "view-in-github",
        "colab_type": "text"
      },
      "source": [
        "<a href=\"https://colab.research.google.com/github/Kushwanth4579/python-practice/blob/sets/Sets.ipynb\" target=\"_parent\"><img src=\"https://colab.research.google.com/assets/colab-badge.svg\" alt=\"Open In Colab\"/></a>"
      ]
    },
    {
      "cell_type": "code",
      "execution_count": 32,
      "metadata": {
        "colab": {
          "base_uri": "https://localhost:8080/"
        },
        "id": "6NCbh_UAUaSC",
        "outputId": "e1cd30c6-944d-49fa-e673-b4625f372285"
      },
      "outputs": [
        {
          "output_type": "stream",
          "name": "stdout",
          "text": [
            "{'lichi', 'apple', 'papaya', 'grapes', 'banana'}\n",
            "5\n",
            "<class 'set'>\n",
            "lichi\n",
            "apple\n",
            "papaya\n",
            "grapes\n",
            "banana\n",
            "True\n",
            "{'lichi', 'apple', 'pineapple', 'papaya', 'grapes', 'banana'}\n",
            "{'lichi', 'apple', 'pineapple', 'papaya', 'banana'}\n",
            "{'lichi', 'apple', 'pineapple', 'jackfruit', 'papaya', 'cherry', 'kiwi', 'gua', 'banana'}\n",
            "{'lichi', 'jackfruit', 'cherry', 'kiwi'}\n",
            "{'lichi', 'apple', 'pineapple', 'jackfruit', 'papaya', 'cherry', 'kiwi', 'gua', 'banana'}\n",
            "{'lichi', 'apple', 'pineapple', 'jackfruit', 'papaya', 'cherry', 'kiwi', 'gua', 'banana'}\n",
            "banana\n"
          ]
        }
      ],
      "source": [
        "a= {'apple','banana','grapes','papaya','lichi'}\n",
        "b= {'jackfruit','gua','cherry','kiwi','lichi'}\n",
        "print(a)\n",
        "print(len(a))\n",
        "print(type(a))\n",
        "for x in a:\n",
        "  print(x)\n",
        "print(\"papaya\" in a)\n",
        "a.add(\"pineapple\")\n",
        "print(a)\n",
        "a.remove(\"grapes\")\n",
        "print(a)\n",
        "a.update(b)\n",
        "print(a)\n",
        "b.discard(\"gua\")\n",
        "print(b)\n",
        "a.update(b)\n",
        "print(a)\n",
        "b.union(a)\n",
        "print(a)\n",
        "\n",
        "\n"
      ]
    },
    {
      "cell_type": "code",
      "source": [
        "{}"
      ],
      "metadata": {
        "id": "SIyRBIswXJbN"
      },
      "execution_count": null,
      "outputs": []
    },
    {
      "cell_type": "code",
      "source": [
        "a= {'apple','banana','papaya','lichi','grapes'}\n",
        "b= {'jackfruit','gua','kiwi','lichi','grapes'}\n",
        "a.intersection_update(b)\n",
        "print(a)\n",
        "c=a.intersection(b)\n",
        "print(c)\n",
        "a.symmetric_difference_update(b)\n",
        "print(a)\n"
      ],
      "metadata": {
        "colab": {
          "base_uri": "https://localhost:8080/"
        },
        "id": "nCbktkZabqWz",
        "outputId": "000ffeee-e9af-4579-eff5-bd5585d169ad"
      },
      "execution_count": 38,
      "outputs": [
        {
          "output_type": "stream",
          "name": "stdout",
          "text": [
            "{'lichi', 'grapes'}\n",
            "{'lichi', 'grapes'}\n",
            "{'kiwi', 'jackfruit', 'gua'}\n"
          ]
        }
      ]
    }
  ]
}