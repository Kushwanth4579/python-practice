{
  "nbformat": 4,
  "nbformat_minor": 0,
  "metadata": {
    "colab": {
      "name": "26/04/2022.ipynb",
      "provenance": [],
      "authorship_tag": "ABX9TyMMCTdfwqYgTroPOMfkvIkq",
      "include_colab_link": true
    },
    "kernelspec": {
      "name": "python3",
      "display_name": "Python 3"
    },
    "language_info": {
      "name": "python"
    }
  },
  "cells": [
    {
      "cell_type": "markdown",
      "metadata": {
        "id": "view-in-github",
        "colab_type": "text"
      },
      "source": [
        "<a href=\"https://colab.research.google.com/github/Kushwanth4579/python-practice/blob/main/26_04_2022.ipynb\" target=\"_parent\"><img src=\"https://colab.research.google.com/assets/colab-badge.svg\" alt=\"Open In Colab\"/></a>"
      ]
    },
    {
      "cell_type": "markdown",
      "source": [
        "write a program to print prime number in given range by using fuction(25-50)\n",
        "write a program to read any month in integer and display days for that month\n",
        "write a python program to print even length words in string.\n",
        "write a python program to capitalize the first and last letter of each word \n",
        "write a program to read a string from user ,display first character of each word with capital\n",
        "write a program to convert a list of multiple integers ino single integer"
      ],
      "metadata": {
        "id": "HATtOxw6aQoj"
      }
    },
    {
      "cell_type": "code",
      "source": [
        "#write a program to convert a list of multiple integers ino single integer\n",
        "a=eval(input(\"enter list elemnets: \"))\n",
        "b=\"\"\n",
        "for i in a:\n",
        "  b+=str(i)\n",
        "print(b)"
      ],
      "metadata": {
        "colab": {
          "base_uri": "https://localhost:8080/"
        },
        "id": "wYgYaIG-d1PA",
        "outputId": "5535a531-9f66-4cf4-aa48-19cc3b707cfa"
      },
      "execution_count": 40,
      "outputs": [
        {
          "output_type": "stream",
          "name": "stdout",
          "text": [
            "enter list elemnets: [11,34,44]\n",
            "113444\n"
          ]
        }
      ]
    },
    {
      "cell_type": "code",
      "execution_count": 17,
      "metadata": {
        "colab": {
          "base_uri": "https://localhost:8080/"
        },
        "id": "NvXEnSySaPWO",
        "outputId": "53f9dc49-f86f-42e6-e20c-01b2749670f6"
      },
      "outputs": [
        {
          "output_type": "stream",
          "name": "stdout",
          "text": [
            "enter x 25\n",
            "enter y 50\n",
            "29\n",
            "31\n",
            "37\n",
            "41\n",
            "43\n",
            "47\n"
          ]
        }
      ],
      "source": [
        "#write a program to print prime number in given range by using fuction(25-50) \n",
        "def prime(a):\n",
        "  flag=0\n",
        "  for i in range(2,a):\n",
        "    if a%i==0:\n",
        "      flag=1\n",
        "      break\n",
        "  if flag==0:\n",
        "     print(a)\n",
        "x=int(input(\"enter x \"))\n",
        "y=int(input(\"enter y \"))\n",
        "for i in range(x,y+1):\n",
        "  prime(i)"
      ]
    },
    {
      "cell_type": "code",
      "source": [
        "#write a program to read any month in integer and display days for that month\n",
        "def month(a):\n",
        "  if a==1 or a==3 or a==5 or a==7 or a==8 or a==10 or a==12:\n",
        "    print(\"month has 31 days\")\n",
        "  elif a==2:\n",
        "    print(\"month has 28/29 days\")\n",
        "  else:\n",
        "    print(\"month has 30 days\")\n",
        "x=int(input(\"enter month number\"))\n",
        "month(x)"
      ],
      "metadata": {
        "colab": {
          "base_uri": "https://localhost:8080/"
        },
        "id": "35vhfU_9ditq",
        "outputId": "90d89f6c-d7b7-4cbb-bbfe-f0645398ac2d"
      },
      "execution_count": 13,
      "outputs": [
        {
          "output_type": "stream",
          "name": "stdout",
          "text": [
            "enter month number4\n",
            "month has 30 days\n"
          ]
        }
      ]
    },
    {
      "cell_type": "code",
      "source": [
        "# write a python program to print even length words in string.\n",
        "a=input(\"enter any string \")\n",
        "b=a.split()\n",
        "for i in b:\n",
        "  if(len(i)%2==0):\n",
        "    print(i)"
      ],
      "metadata": {
        "colab": {
          "base_uri": "https://localhost:8080/"
        },
        "id": "8ZUpx-uGdnMA",
        "outputId": "999cc02d-56c4-4427-c4e7-8fb9ad17a84c"
      },
      "execution_count": 29,
      "outputs": [
        {
          "output_type": "stream",
          "name": "stdout",
          "text": [
            "enter any string hello every one hi\n",
            "hi\n"
          ]
        }
      ]
    },
    {
      "cell_type": "code",
      "source": [
        "#write a python program to capitalize the first and last letter of each word\n",
        "x=str(input())\n",
        "y=x.split()\n",
        "z=\"\"\n",
        "for i in y:\n",
        "  a=i.capitalize()\n",
        "  b=i[-1].capitalize()\n",
        "  z=a[0:-1]+b\n",
        "  print(z,end=\" \")"
      ],
      "metadata": {
        "colab": {
          "base_uri": "https://localhost:8080/"
        },
        "id": "m5MpMGGJdq2h",
        "outputId": "4e206f51-66ad-4935-8d92-56b23258b577"
      },
      "execution_count": 39,
      "outputs": [
        {
          "output_type": "stream",
          "name": "stdout",
          "text": [
            "mahidhar has three girl friends\n",
            "MahidhaR HaS ThreE GirL FriendS "
          ]
        }
      ]
    },
    {
      "cell_type": "code",
      "source": [
        "#write a program to read a string from user ,display first character of each word with capital\n",
        "a=input(\"\")\n",
        "b=a.split()\n",
        "for i in b:\n",
        "  x=i.capitalize()\n",
        "  print(x,end=\" \")"
      ],
      "metadata": {
        "colab": {
          "base_uri": "https://localhost:8080/"
        },
        "id": "ZrX1Vey_dulZ",
        "outputId": "7b0f1a67-1c96-4d09-d1ec-9ca75c18ab69"
      },
      "execution_count": 33,
      "outputs": [
        {
          "output_type": "stream",
          "name": "stdout",
          "text": [
            "this is python\n",
            "This Is Python "
          ]
        }
      ]
    }
  ]
}