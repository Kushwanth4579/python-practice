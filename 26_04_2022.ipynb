{
  "nbformat": 4,
  "nbformat_minor": 0,
  "metadata": {
    "colab": {
      "name": "26/04/2022.ipynb",
      "provenance": [],
      "authorship_tag": "ABX9TyON60V94iwCG3Hm8Zph4p99",
      "include_colab_link": true
    },
    "kernelspec": {
      "name": "python3",
      "display_name": "Python 3"
    },
    "language_info": {
      "name": "python"
    }
  },
  "cells": [
    {
      "cell_type": "markdown",
      "metadata": {
        "id": "view-in-github",
        "colab_type": "text"
      },
      "source": [
        "<a href=\"https://colab.research.google.com/github/Kushwanth4579/python-practice/blob/main/26_04_2022.ipynb\" target=\"_parent\"><img src=\"https://colab.research.google.com/assets/colab-badge.svg\" alt=\"Open In Colab\"/></a>"
      ]
    },
    {
      "cell_type": "markdown",
      "source": [
        "write a program to print prime number in given range by using fuction(25-50)\n",
        "write a program to read any month in integer and display days for that month\n",
        "write a python program to print even length words in string.\n",
        "write a python program to capitalize the first and last letter of each word \n",
        "write a program to read a string from user ,display first character of each word with capital\n",
        "write a program to convert a list of multiple integers ino single integer"
      ],
      "metadata": {
        "id": "HATtOxw6aQoj"
      }
    },
    {
      "cell_type": "code",
      "source": [
        "#write a progrma to count the number of string where the string length is 2 or more and first and last character ares same ifrom a given list of strings                                                                                                                                                   "
      ],
      "metadata": {
        "id": "0XEdD71WQbEY"
      },
      "execution_count": null,
      "outputs": []
    },
    {
      "cell_type": "code",
      "source": [
        "# there is a walking track of 3km and round trip of 6km, take inpu from user no.of days,no.of round trips he completed per day,calculatr and total distance he covered in meters,if distance is less than 40000 meters give a message as need to walk more,more than 40000,give a message good job\n",
        "d=5\n",
        "rt=int(input(\"number od round trips: \"))\n",
        "dc=rt*6*1000\n",
        "if dc>=40000:\n",
        "  print(\"Good Job\")\n",
        "else:\n",
        "  print(\"should walk more\")\n"
      ],
      "metadata": {
        "id": "tTOTqUmlRKra",
        "outputId": "5d557a08-7c23-46bc-90fc-c9b2383e6eb1",
        "colab": {
          "base_uri": "https://localhost:8080/"
        }
      },
      "execution_count": 22,
      "outputs": [
        {
          "output_type": "stream",
          "name": "stdout",
          "text": [
            "number od round trips: 10\n",
            "Good Job\n"
          ]
        }
      ]
    },
    {
      "cell_type": "code",
      "source": [
        "#given a list of students names in L and a character,display the names of students whose first letter is given as input "
      ],
      "metadata": {
        "id": "fzc107Z3SFDQ"
      },
      "execution_count": null,
      "outputs": []
    },
    {
      "cell_type": "code",
      "source": [
        "#given a list of city names whose length is greater than a given length "
      ],
      "metadata": {
        "id": "sstqMWWOSkJf"
      },
      "execution_count": null,
      "outputs": []
    },
    {
      "cell_type": "code",
      "source": [
        "#program to print biggest value among three values\n",
        "a=int(input(\"enter first number: \"))\n",
        "b=int(input(\"enter second number: \"))\n",
        "c=int(input(\"enter third number:  \"))\n",
        "print(a) if a>b and a>c else print(b) if b>c else print(c)"
      ],
      "metadata": {
        "id": "2yzHeamFP7yy",
        "outputId": "c6e4f87c-7b1a-492f-ced0-86384f2801e3",
        "colab": {
          "base_uri": "https://localhost:8080/"
        }
      },
      "execution_count": 19,
      "outputs": [
        {
          "output_type": "stream",
          "name": "stdout",
          "text": [
            "enter first number: 2\n",
            "enter second number: 5\n",
            "enter third number:  7\n",
            "7\n"
          ]
        }
      ]
    },
    {
      "cell_type": "code",
      "source": [
        "#write a python program to find power of number with and without recursion\n",
        "a=int(input(\"enter number: \"))\n",
        "b=int(input())\n",
        "c=print(pow(a,b))"
      ],
      "metadata": {
        "id": "u9rJU7FGJxun",
        "outputId": "6d106825-b0b9-43f8-d9ca-8aef25760333",
        "colab": {
          "base_uri": "https://localhost:8080/"
        }
      },
      "execution_count": 11,
      "outputs": [
        {
          "output_type": "stream",
          "name": "stdout",
          "text": [
            "enter number: 2\n",
            "3\n",
            "8\n"
          ]
        }
      ]
    },
    {
      "cell_type": "code",
      "source": [
        "#write a program to sort tuples by total digits\n",
        "#input:list[(3,4,6,723),(1,2),(134,234,34)]"
      ],
      "metadata": {
        "id": "0wbfzz4rKAh2"
      },
      "execution_count": null,
      "outputs": []
    },
    {
      "cell_type": "code",
      "source": [
        "#write a python program that prints 1 if all the three given numbers are in ascending order.otherwise,print 0."
      ],
      "metadata": {
        "id": "NvJo8QxmLPn1"
      },
      "execution_count": null,
      "outputs": []
    },
    {
      "cell_type": "code",
      "source": [
        "#check is given number is perfect  or not"
      ],
      "metadata": {
        "id": "bjfjLk7tLh5j"
      },
      "execution_count": null,
      "outputs": []
    },
    {
      "cell_type": "code",
      "source": [
        "#take 5 suject marks from user abd display the grade of the student\n",
        "# avg: 90-100: o grade\n",
        "a=int(input(\"no.of sujects: \"))\n",
        "s=0\n",
        "for i in range(1,a+1):\n",
        "  n=float(input(\"enter marks: \"))\n",
        "  s=s+n\n",
        "avg=s/a\n",
        "if avg>=90:\n",
        "  print(\"O grade\")\n",
        "elif avg>=80:\n",
        "  print(\"A+ grade\")\n",
        "elif avg>=70:\n",
        "  print(\"A grade\")\n",
        "elif avg>=60:\n",
        "  print(\"B+ grade\")\n",
        "elif avg>=50:\n",
        "  print(\"B grade\")\n",
        "else:\n",
        "  print(\"fail\")"
      ],
      "metadata": {
        "id": "TqAC8ZWKK5YM",
        "outputId": "bd51e8ea-0ed4-48c5-89ab-3d2e828b56ec",
        "colab": {
          "base_uri": "https://localhost:8080/"
        }
      },
      "execution_count": 12,
      "outputs": [
        {
          "output_type": "stream",
          "name": "stdout",
          "text": [
            "no.of sujects: 5\n",
            "enter marks: 98\n",
            "enter marks: 98\n",
            "enter marks: 99\n",
            "enter marks: 97\n",
            "enter marks: 98\n",
            "O grade\n"
          ]
        }
      ]
    },
    {
      "cell_type": "code",
      "source": [
        "#program to calculate the sum of squares of digits of anumber giveb by user\n",
        "a=input()\n",
        "x=0\n",
        "for i in range(len(a)):\n",
        "  b=int(a[i])\n",
        "  c=b*b\n",
        "  x+=c\n",
        "print(x)"
      ],
      "metadata": {
        "id": "M3irCgqDNF36",
        "outputId": "88ede42c-70fd-4a35-df5f-490c54682cef",
        "colab": {
          "base_uri": "https://localhost:8080/"
        }
      },
      "execution_count": 23,
      "outputs": [
        {
          "output_type": "stream",
          "name": "stdout",
          "text": [
            "123\n",
            "14\n"
          ]
        }
      ]
    },
    {
      "cell_type": "code",
      "source": [
        "#given a string s,\n",
        "#s=abcdefcba,how many times the ith character from first and last \n",
        "#print(countFrontBackMatches)"
      ],
      "metadata": {
        "id": "brJ-N9qaNdjk"
      },
      "execution_count": null,
      "outputs": []
    },
    {
      "cell_type": "code",
      "source": [
        "#given an integer n,return a list containing 1223334444...and finally n repeated n times\n",
        "#print(repeatNumTimes(n))"
      ],
      "metadata": {
        "id": "42FQ1jIgOw0q"
      },
      "execution_count": null,
      "outputs": []
    },
    {
      "cell_type": "code",
      "source": [
        "#print number of vowels and consonats in a string\n",
        "#gitam university"
      ],
      "metadata": {
        "id": "aN1F-AeoPE1a"
      },
      "execution_count": null,
      "outputs": []
    },
    {
      "cell_type": "code",
      "source": [
        "#given two integers a nd b, if a<b then print all numbers in between ascending order else print in descending order"
      ],
      "metadata": {
        "id": "-4FatCDwPhfa"
      },
      "execution_count": null,
      "outputs": []
    },
    {
      "cell_type": "code",
      "source": [
        "#check given string is palindrome or not \n",
        "#input: malayalam"
      ],
      "metadata": {
        "id": "MCd-Y_WyMMv7"
      },
      "execution_count": null,
      "outputs": []
    },
    {
      "cell_type": "code",
      "source": [
        "#find the gcd of two numbers with and without recursion"
      ],
      "metadata": {
        "id": "gAlFQ2IiMmqL"
      },
      "execution_count": null,
      "outputs": []
    },
    {
      "cell_type": "code",
      "source": [
        "#print sum of given even numbers in a given number "
      ],
      "metadata": {
        "id": "gEf83YGFMxIj"
      },
      "execution_count": null,
      "outputs": []
    },
    {
      "cell_type": "code",
      "source": [
        "#write a program to convert a list of multiple integers ino single integer\n",
        "a=eval(input(\"enter list elemnets: \"))\n",
        "b=\"\"\n",
        "for i in a:\n",
        "  b+=str(i)\n",
        "print(b)"
      ],
      "metadata": {
        "colab": {
          "base_uri": "https://localhost:8080/"
        },
        "id": "wYgYaIG-d1PA",
        "outputId": "5535a531-9f66-4cf4-aa48-19cc3b707cfa"
      },
      "execution_count": null,
      "outputs": [
        {
          "output_type": "stream",
          "name": "stdout",
          "text": [
            "enter list elemnets: [11,34,44]\n",
            "113444\n"
          ]
        }
      ]
    },
    {
      "cell_type": "code",
      "execution_count": null,
      "metadata": {
        "colab": {
          "base_uri": "https://localhost:8080/"
        },
        "id": "NvXEnSySaPWO",
        "outputId": "53f9dc49-f86f-42e6-e20c-01b2749670f6"
      },
      "outputs": [
        {
          "output_type": "stream",
          "name": "stdout",
          "text": [
            "enter x 25\n",
            "enter y 50\n",
            "29\n",
            "31\n",
            "37\n",
            "41\n",
            "43\n",
            "47\n"
          ]
        }
      ],
      "source": [
        "#write a program to print prime number in given range by using fuction(25-50) \n",
        "def prime(a):\n",
        "  flag=0\n",
        "  for i in range(2,a):\n",
        "    if a%i==0:\n",
        "      flag=1\n",
        "      break\n",
        "  if flag==0:\n",
        "     print(a)\n",
        "x=int(input(\"enter x \"))\n",
        "y=int(input(\"enter y \"))\n",
        "for i in range(x,y+1):\n",
        "  prime(i)"
      ]
    },
    {
      "cell_type": "code",
      "source": [
        "#write a program to read any month in integer and display days for that month\n",
        "def month(a):\n",
        "  if a==1 or a==3 or a==5 or a==7 or a==8 or a==10 or a==12:\n",
        "    print(\"month has 31 days\")\n",
        "  elif a==2:\n",
        "    print(\"month has 28/29 days\")\n",
        "  else:\n",
        "    print(\"month has 30 days\")\n",
        "x=int(input(\"enter month number\"))\n",
        "month(x)"
      ],
      "metadata": {
        "colab": {
          "base_uri": "https://localhost:8080/"
        },
        "id": "35vhfU_9ditq",
        "outputId": "90d89f6c-d7b7-4cbb-bbfe-f0645398ac2d"
      },
      "execution_count": null,
      "outputs": [
        {
          "output_type": "stream",
          "name": "stdout",
          "text": [
            "enter month number4\n",
            "month has 30 days\n"
          ]
        }
      ]
    },
    {
      "cell_type": "code",
      "source": [
        "# write a python program to print even length words in string.\n",
        "a=input(\"enter any string \")\n",
        "b=a.split()\n",
        "for i in b:\n",
        "  if(len(i)%2==0):\n",
        "    print(i)"
      ],
      "metadata": {
        "colab": {
          "base_uri": "https://localhost:8080/"
        },
        "id": "8ZUpx-uGdnMA",
        "outputId": "999cc02d-56c4-4427-c4e7-8fb9ad17a84c"
      },
      "execution_count": null,
      "outputs": [
        {
          "output_type": "stream",
          "name": "stdout",
          "text": [
            "enter any string hello every one hi\n",
            "hi\n"
          ]
        }
      ]
    },
    {
      "cell_type": "code",
      "source": [
        "#write a python program to capitalize the first and last letter of each word\n",
        "x=str(input())\n",
        "y=x.split()\n",
        "z=\"\"\n",
        "for i in y:\n",
        "  a=i.capitalize()\n",
        "  b=i[-1].capitalize()\n",
        "  z=a[0:-1]+b\n",
        "  print(z,end=\" \")"
      ],
      "metadata": {
        "colab": {
          "base_uri": "https://localhost:8080/"
        },
        "id": "m5MpMGGJdq2h",
        "outputId": "4e206f51-66ad-4935-8d92-56b23258b577"
      },
      "execution_count": null,
      "outputs": [
        {
          "output_type": "stream",
          "name": "stdout",
          "text": [
            "mahidhar has three girl friends\n",
            "MahidhaR HaS ThreE GirL FriendS "
          ]
        }
      ]
    },
    {
      "cell_type": "code",
      "source": [
        "#write a program to read a string from user ,display first character of each word with capital\n",
        "a=input(\"\")\n",
        "b=a.split()\n",
        "for i in b:\n",
        "  x=i.capitalize()\n",
        "  print(x,end=\" \")"
      ],
      "metadata": {
        "colab": {
          "base_uri": "https://localhost:8080/"
        },
        "id": "ZrX1Vey_dulZ",
        "outputId": "7b0f1a67-1c96-4d09-d1ec-9ca75c18ab69"
      },
      "execution_count": null,
      "outputs": [
        {
          "output_type": "stream",
          "name": "stdout",
          "text": [
            "this is python\n",
            "This Is Python "
          ]
        }
      ]
    }
  ]
}