{
  "nbformat": 4,
  "nbformat_minor": 0,
  "metadata": {
    "colab": {
      "name": "26/04/2022.ipynb",
      "provenance": [],
      "authorship_tag": "ABX9TyOrt3JkhUNdTSoQDuMvhrCk",
      "include_colab_link": true
    },
    "kernelspec": {
      "name": "python3",
      "display_name": "Python 3"
    },
    "language_info": {
      "name": "python"
    }
  },
  "cells": [
    {
      "cell_type": "markdown",
      "metadata": {
        "id": "view-in-github",
        "colab_type": "text"
      },
      "source": [
        "<a href=\"https://colab.research.google.com/github/Kushwanth4579/python-practice/blob/main/26_04_2022.ipynb\" target=\"_parent\"><img src=\"https://colab.research.google.com/assets/colab-badge.svg\" alt=\"Open In Colab\"/></a>"
      ]
    },
    {
      "cell_type": "markdown",
      "source": [
        "write a program to print prime number in given range by using fuction(25-50)\n",
        "write a program to read any month in integer and display days for that month\n",
        "write a python program to print even length words in string.\n",
        "write a python program to capitalize the first and last letter of each word \n",
        "write a program to read a string from user ,display first character of each word with capital\n",
        "write a program to convert a list of multiple integers ino single integer"
      ],
      "metadata": {
        "id": "HATtOxw6aQoj"
      }
    },
    {
      "cell_type": "code",
      "source": [
        "# there is a walking track of 3km and round trip of 6km, take inpu from user no.of days,no.of round trips he completed per day,calculatr and total distance he covered in meters,if distance is less than 40000 meters give a message as need to walk more,more than 40000,give a message good job\n",
        "x=int(input(\"Enter days \"))\n",
        "y=int(input(\"Enter round trips/day \"))\n",
        "a=x*y*6000\n",
        "if a>= 40000 :\n",
        "  print(\"Good job\")\n",
        "else :\n",
        "  print(\"Need to walk more\")\n"
      ],
      "metadata": {
        "id": "tTOTqUmlRKra",
        "outputId": "d32be1a3-a1d0-4b8f-d5b9-dc8a9768271d",
        "colab": {
          "base_uri": "https://localhost:8080/",
          "height": 0
        }
      },
      "execution_count": 2,
      "outputs": [
        {
          "output_type": "stream",
          "name": "stdout",
          "text": [
            "Enter days 5\n",
            "Enter round trips/day 5\n",
            "Good job\n"
          ]
        }
      ]
    },
    {
      "cell_type": "code",
      "source": [
        "#given a list of students names in L and a character,display the names of students whose first letter is given as input \n",
        "n=input(\"Enter letter to be verified \")\n",
        "n=n.lower()\n",
        "r=[]\n",
        "s=0\n",
        "for i in range(int(input(\"Enter no. of students \"))):\n",
        "  a=input(f\"Enter name of student no. {i+1} \")\n",
        "  a=a.lower()\n",
        "  p=a[0]\n",
        "  if n==p :\n",
        "    s+=1\n",
        "    r.append(a)\n",
        "print(f\"Total {s} students matched\\nThey are {r}\")"
      ],
      "metadata": {
        "id": "fzc107Z3SFDQ",
        "outputId": "9e63af68-c6f6-4577-b808-6a59aeb595ff",
        "colab": {
          "base_uri": "https://localhost:8080/",
          "height": 0
        }
      },
      "execution_count": 6,
      "outputs": [
        {
          "output_type": "stream",
          "name": "stdout",
          "text": [
            "Enter letter to be verified k\n",
            "Enter no. of students 4\n",
            "Enter name of student no. 1 kushwanth\n",
            "Enter name of student no. 2 krithi\n",
            "Enter name of student no. 3 omsri\n",
            "Enter name of student no. 4 abhi\n",
            "Total 2 students matched\n",
            "They are ['kushwanth', 'krithi']\n"
          ]
        }
      ]
    },
    {
      "cell_type": "code",
      "source": [
        "#Given list of cities and length print all cities whose length is > given length\n",
        "l=int(input(\"Enter length to be exceeded \"))\n",
        "u=[]\n",
        "for i in range(int(input(\"Enter no. of cities \"))):\n",
        "  c=input(f\"Enter name of city no.{i+1} \")\n",
        "  a=len(c)\n",
        "  if a>l:\n",
        "    u.append(c)\n",
        "print(f\"required cities are {u}\")"
      ],
      "metadata": {
        "id": "sstqMWWOSkJf",
        "outputId": "131ba788-e4ed-417f-ecd5-d3172e135683",
        "colab": {
          "base_uri": "https://localhost:8080/",
          "height": 0
        }
      },
      "execution_count": 8,
      "outputs": [
        {
          "output_type": "stream",
          "name": "stdout",
          "text": [
            "Enter length to be exceeded 4\n",
            "Enter no. of cities 4\n",
            "Enter name of city no.1 vizag\n",
            "Enter name of city no.2 hyderabad\n",
            "Enter name of city no.3 goa\n",
            "Enter name of city no.4 pune\n",
            "required cities are ['vizag', 'hyderabad']\n"
          ]
        }
      ]
    },
    {
      "cell_type": "code",
      "source": [
        "#program to print biggest value among three values\n",
        "a=int(input(\"enter first number: \"))\n",
        "b=int(input(\"enter second number: \"))\n",
        "c=int(input(\"enter third number:  \"))\n",
        "print(a) if a>b and a>c else print(b) if b>c else print(c)"
      ],
      "metadata": {
        "id": "2yzHeamFP7yy",
        "outputId": "c6e4f87c-7b1a-492f-ced0-86384f2801e3",
        "colab": {
          "base_uri": "https://localhost:8080/"
        }
      },
      "execution_count": null,
      "outputs": [
        {
          "output_type": "stream",
          "name": "stdout",
          "text": [
            "enter first number: 2\n",
            "enter second number: 5\n",
            "enter third number:  7\n",
            "7\n"
          ]
        }
      ]
    },
    {
      "cell_type": "code",
      "source": [
        "#write a python program to find power of number with and without recursion\n",
        "a=int(input(\"enter number: \"))\n",
        "b=int(input())\n",
        "c=print(pow(a,b))"
      ],
      "metadata": {
        "id": "u9rJU7FGJxun",
        "outputId": "27b63824-20d5-49b1-ab50-2fb2c9781eb7",
        "colab": {
          "base_uri": "https://localhost:8080/",
          "height": 0
        }
      },
      "execution_count": 7,
      "outputs": [
        {
          "output_type": "stream",
          "name": "stdout",
          "text": [
            "enter number: 5\n",
            "3\n",
            "125\n"
          ]
        }
      ]
    },
    {
      "cell_type": "code",
      "source": [
        "#write a program to sort tuples by total digits\n",
        "#input:list[(3,4,6,723),(1,2),(134,234,34)]\n",
        "lt=[(3,4,6,729),(1,2),(134,234,34)]\n",
        "lt.sort()\n",
        "print(lt)\n"
      ],
      "metadata": {
        "id": "0wbfzz4rKAh2",
        "outputId": "220d4e8e-fa61-49fe-957d-ed8e15815176",
        "colab": {
          "base_uri": "https://localhost:8080/",
          "height": 0
        }
      },
      "execution_count": 14,
      "outputs": [
        {
          "output_type": "stream",
          "name": "stdout",
          "text": [
            "[(1, 2), (3, 4, 6, 729), (134, 234, 34)]\n"
          ]
        }
      ]
    },
    {
      "cell_type": "code",
      "source": [
        "#write a python program that prints 1 if all the three given numbers are in ascending order.otherwise,print 0.\n",
        "a=list(map(int, input(\"Enter number \").rstrip().split()))\n",
        "b=[]\n",
        "b.extend(a)\n",
        "a.sort()\n",
        "if a==b :\n",
        "  print(1)\n",
        "else :\n",
        "  print(0)\n"
      ],
      "metadata": {
        "id": "NvJo8QxmLPn1",
        "outputId": "da8235ab-f61a-42ae-d25b-165cf8947064",
        "colab": {
          "base_uri": "https://localhost:8080/",
          "height": 0
        }
      },
      "execution_count": 18,
      "outputs": [
        {
          "output_type": "stream",
          "name": "stdout",
          "text": [
            "Enter number 345\n",
            "1\n"
          ]
        }
      ]
    },
    {
      "cell_type": "code",
      "source": [
        "#check is given number is perfect  or not\n",
        "a=int(input(\"Enter a number \"))\n",
        "s=0\n",
        "for i in range (1,a):\n",
        "  if a%i==0 :\n",
        "    s+=i\n",
        "if s==a:\n",
        "  print(\"It's perfect\")\n",
        "else:\n",
        "  print(\"It's not perfect\")"
      ],
      "metadata": {
        "id": "bjfjLk7tLh5j",
        "outputId": "501eb5af-b8bb-4579-e0cd-02f3d573833f",
        "colab": {
          "base_uri": "https://localhost:8080/",
          "height": 0
        }
      },
      "execution_count": 10,
      "outputs": [
        {
          "output_type": "stream",
          "name": "stdout",
          "text": [
            "Enter a number 28\n",
            "It's perfect\n"
          ]
        }
      ]
    },
    {
      "cell_type": "code",
      "source": [
        "#take 5 suject marks from user abd display the grade of the student\n",
        "# avg: 90-100: o grade\n",
        "a=int(input(\"no.of sujects: \"))\n",
        "s=0\n",
        "for i in range(1,a+1):\n",
        "  n=float(input(\"enter marks: \"))\n",
        "  s=s+n\n",
        "avg=s/a\n",
        "if avg>=90:\n",
        "  print(\"O grade\")\n",
        "elif avg>=80:\n",
        "  print(\"A+ grade\")\n",
        "elif avg>=70:\n",
        "  print(\"A grade\")\n",
        "elif avg>=60:\n",
        "  print(\"B+ grade\")\n",
        "elif avg>=50:\n",
        "  print(\"B grade\")\n",
        "else:\n",
        "  print(\"fail\")"
      ],
      "metadata": {
        "id": "TqAC8ZWKK5YM",
        "outputId": "bd51e8ea-0ed4-48c5-89ab-3d2e828b56ec",
        "colab": {
          "base_uri": "https://localhost:8080/"
        }
      },
      "execution_count": null,
      "outputs": [
        {
          "output_type": "stream",
          "name": "stdout",
          "text": [
            "no.of sujects: 5\n",
            "enter marks: 98\n",
            "enter marks: 98\n",
            "enter marks: 99\n",
            "enter marks: 97\n",
            "enter marks: 98\n",
            "O grade\n"
          ]
        }
      ]
    },
    {
      "cell_type": "code",
      "source": [
        "#program to calculate the sum of squares of digits of anumber giveb by user\n",
        "a=input()\n",
        "x=0\n",
        "for i in range(len(a)):\n",
        "  b=int(a[i])\n",
        "  c=b*b\n",
        "  x+=c\n",
        "print(x)"
      ],
      "metadata": {
        "id": "M3irCgqDNF36",
        "outputId": "88ede42c-70fd-4a35-df5f-490c54682cef",
        "colab": {
          "base_uri": "https://localhost:8080/"
        }
      },
      "execution_count": null,
      "outputs": [
        {
          "output_type": "stream",
          "name": "stdout",
          "text": [
            "123\n",
            "14\n"
          ]
        }
      ]
    },
    {
      "cell_type": "code",
      "source": [
        "#given an integer n,return a list containing 1223334444...and finally n repeated n times\n",
        "#print(repeatNumTimes(n))\n",
        "n=int(input(\"enter your number :\"))\n",
        "a=[]\n",
        "for i in range (n+1):\n",
        "  for j in range (i):\n",
        "    a.append(i)\n",
        "print(a)"
      ],
      "metadata": {
        "id": "42FQ1jIgOw0q",
        "outputId": "52a01e8d-4f9a-4db1-87bd-af7f7f3dad1f",
        "colab": {
          "base_uri": "https://localhost:8080/",
          "height": 0
        }
      },
      "execution_count": 9,
      "outputs": [
        {
          "output_type": "stream",
          "name": "stdout",
          "text": [
            "enter your number :5\n",
            "[1, 2, 2, 3, 3, 3, 4, 4, 4, 4, 5, 5, 5, 5, 5]\n"
          ]
        }
      ]
    },
    {
      "cell_type": "code",
      "source": [
        "#print number of vowels and consonats in a string\n",
        "#gitam university\n",
        "a=input(\"Enter a word \")\n",
        "a=a.lower()\n",
        "c,v=0,0\n",
        "if a.isalpha() :\n",
        "  for i in range (len(a)):\n",
        "    if a[i]==\"a\" or a[i]==\"e\" or a[i]==\"i\" or a[i]==\"o\" or a[i]==\"u\" :\n",
        "      v+=1\n",
        "    else :\n",
        "      c+=1\n",
        "  print(f\"vowels are {v} and consonants are {c}\")\n",
        "else :\n",
        "  print(\"Not possible\")"
      ],
      "metadata": {
        "id": "aN1F-AeoPE1a"
      },
      "execution_count": null,
      "outputs": []
    },
    {
      "cell_type": "code",
      "source": [
        "#given two integers a nd b, if a<b then print all numbers in between ascending order else print in descending order\n",
        "a= int(input(\"enter a :\"))\n",
        "b= int(input(\"enter b :\"))\n",
        "if a < b :\n",
        "  for i in range (a,b+1):\n",
        "    print(i,end = \" \")\n",
        "if a > b :\n",
        "  while a>=b :\n",
        "    print(a, end = \" \")\n",
        "    a-=1"
      ],
      "metadata": {
        "id": "-4FatCDwPhfa",
        "outputId": "7c91db56-54c5-4ae2-84c7-e27da27a0655",
        "colab": {
          "base_uri": "https://localhost:8080/",
          "height": 0
        }
      },
      "execution_count": 19,
      "outputs": [
        {
          "output_type": "stream",
          "name": "stdout",
          "text": [
            "enter a :4\n",
            "enter b :9\n",
            "4 5 6 7 8 9 "
          ]
        }
      ]
    },
    {
      "cell_type": "code",
      "source": [
        "#check given string is palindrome or not \n",
        "#input: malayalam\n",
        "a=input(\"enter a word \")\n",
        "b=a[::-1]\n",
        "if a==b:\n",
        "  print(\"it's a plaindrome\")\n",
        "else :\n",
        "  print(\"it's not a palindrome\")  "
      ],
      "metadata": {
        "id": "MCd-Y_WyMMv7",
        "outputId": "8e336471-62f4-42c8-c349-bd33bfd5fc0b",
        "colab": {
          "base_uri": "https://localhost:8080/",
          "height": 0
        }
      },
      "execution_count": 13,
      "outputs": [
        {
          "output_type": "stream",
          "name": "stdout",
          "text": [
            "enter a word malayalam\n",
            "it's a plaindrome\n"
          ]
        }
      ]
    },
    {
      "cell_type": "code",
      "source": [
        "\n"
      ],
      "metadata": {
        "id": "gAlFQ2IiMmqL"
      },
      "execution_count": null,
      "outputs": []
    },
    {
      "cell_type": "code",
      "source": [
        "#print sum of given even numbers in a given number \n",
        "a=int(input(\"Enter a number \"))\n",
        "s=0\n",
        "for i in range (a):\n",
        "  r=a%10\n",
        "  if r%2==0 :\n",
        "    s+=r\n",
        "  a=a//10\n",
        "print(s)"
      ],
      "metadata": {
        "id": "gEf83YGFMxIj",
        "outputId": "81f604ce-b674-4a91-d03d-17889d4f969e",
        "colab": {
          "base_uri": "https://localhost:8080/",
          "height": 0
        }
      },
      "execution_count": 11,
      "outputs": [
        {
          "output_type": "stream",
          "name": "stdout",
          "text": [
            "Enter a number 23456\n",
            "12\n"
          ]
        }
      ]
    },
    {
      "cell_type": "code",
      "source": [
        "#write a program to convert a list of multiple integers ino single integer\n",
        "a=eval(input(\"enter list elemnets: \"))\n",
        "b=\"\"\n",
        "for i in a:\n",
        "  b+=str(i)\n",
        "print(b)"
      ],
      "metadata": {
        "colab": {
          "base_uri": "https://localhost:8080/"
        },
        "id": "wYgYaIG-d1PA",
        "outputId": "5535a531-9f66-4cf4-aa48-19cc3b707cfa"
      },
      "execution_count": null,
      "outputs": [
        {
          "output_type": "stream",
          "name": "stdout",
          "text": [
            "enter list elemnets: [11,34,44]\n",
            "113444\n"
          ]
        }
      ]
    },
    {
      "cell_type": "code",
      "execution_count": null,
      "metadata": {
        "colab": {
          "base_uri": "https://localhost:8080/"
        },
        "id": "NvXEnSySaPWO",
        "outputId": "53f9dc49-f86f-42e6-e20c-01b2749670f6"
      },
      "outputs": [
        {
          "output_type": "stream",
          "name": "stdout",
          "text": [
            "enter x 25\n",
            "enter y 50\n",
            "29\n",
            "31\n",
            "37\n",
            "41\n",
            "43\n",
            "47\n"
          ]
        }
      ],
      "source": [
        "#write a program to print prime number in given range by using fuction(25-50) \n",
        "def prime(a):\n",
        "  flag=0\n",
        "  for i in range(2,a):\n",
        "    if a%i==0:\n",
        "      flag=1\n",
        "      break\n",
        "  if flag==0:\n",
        "     print(a)\n",
        "x=int(input(\"enter x \"))\n",
        "y=int(input(\"enter y \"))\n",
        "for i in range(x,y+1):\n",
        "  prime(i)"
      ]
    },
    {
      "cell_type": "code",
      "source": [
        "#write a program to read any month in integer and display days for that month\n",
        "def month(a):\n",
        "  if a==1 or a==3 or a==5 or a==7 or a==8 or a==10 or a==12:\n",
        "    print(\"month has 31 days\")\n",
        "  elif a==2:\n",
        "    print(\"month has 28/29 days\")\n",
        "  else:\n",
        "    print(\"month has 30 days\")\n",
        "x=int(input(\"enter month number\"))\n",
        "month(x)"
      ],
      "metadata": {
        "colab": {
          "base_uri": "https://localhost:8080/"
        },
        "id": "35vhfU_9ditq",
        "outputId": "90d89f6c-d7b7-4cbb-bbfe-f0645398ac2d"
      },
      "execution_count": null,
      "outputs": [
        {
          "output_type": "stream",
          "name": "stdout",
          "text": [
            "enter month number4\n",
            "month has 30 days\n"
          ]
        }
      ]
    },
    {
      "cell_type": "code",
      "source": [
        "# write a python program to print even length words in string.\n",
        "a=input(\"enter any string \")\n",
        "b=a.split()\n",
        "for i in b:\n",
        "  if(len(i)%2==0):\n",
        "    print(i)"
      ],
      "metadata": {
        "colab": {
          "base_uri": "https://localhost:8080/"
        },
        "id": "8ZUpx-uGdnMA",
        "outputId": "999cc02d-56c4-4427-c4e7-8fb9ad17a84c"
      },
      "execution_count": null,
      "outputs": [
        {
          "output_type": "stream",
          "name": "stdout",
          "text": [
            "enter any string hello every one hi\n",
            "hi\n"
          ]
        }
      ]
    },
    {
      "cell_type": "code",
      "source": [
        "#write a python program to capitalize the first and last letter of each word\n",
        "x=str(input())\n",
        "y=x.split()\n",
        "z=\"\"\n",
        "for i in y:\n",
        "  a=i.capitalize()\n",
        "  b=i[-1].capitalize()\n",
        "  z=a[0:-1]+b\n",
        "  print(z,end=\" \")"
      ],
      "metadata": {
        "colab": {
          "base_uri": "https://localhost:8080/"
        },
        "id": "m5MpMGGJdq2h",
        "outputId": "4e206f51-66ad-4935-8d92-56b23258b577"
      },
      "execution_count": null,
      "outputs": [
        {
          "output_type": "stream",
          "name": "stdout",
          "text": [
            "mahidhar has three girl friends\n",
            "MahidhaR HaS ThreE GirL FriendS "
          ]
        }
      ]
    },
    {
      "cell_type": "code",
      "source": [
        "#write a program to read a string from user ,display first character of each word with capital\n",
        "a=input(\"\")\n",
        "b=a.split()\n",
        "for i in b:\n",
        "  x=i.capitalize()\n",
        "  print(x,end=\" \")"
      ],
      "metadata": {
        "colab": {
          "base_uri": "https://localhost:8080/"
        },
        "id": "ZrX1Vey_dulZ",
        "outputId": "7b0f1a67-1c96-4d09-d1ec-9ca75c18ab69"
      },
      "execution_count": null,
      "outputs": [
        {
          "output_type": "stream",
          "name": "stdout",
          "text": [
            "this is python\n",
            "This Is Python "
          ]
        }
      ]
    }
  ]
}