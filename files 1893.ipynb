{
 "cells": [
  {
   "cell_type": "code",
   "execution_count": 1,
   "id": "96e2b6cf",
   "metadata": {},
   "outputs": [
    {
     "ename": "OSError",
     "evalue": "[Errno 22] Invalid argument: 'C:\\\\Users\\\\CSE22004\\\\Desktop\\x07nitha.txt'",
     "output_type": "error",
     "traceback": [
      "\u001b[1;31m---------------------------------------------------------------------------\u001b[0m",
      "\u001b[1;31mOSError\u001b[0m                                   Traceback (most recent call last)",
      "\u001b[1;32m~\\AppData\\Local\\Temp/ipykernel_3076/149765552.py\u001b[0m in \u001b[0;36m<module>\u001b[1;34m\u001b[0m\n\u001b[1;32m----> 1\u001b[1;33m \u001b[0mf\u001b[0m\u001b[1;33m=\u001b[0m\u001b[0mopen\u001b[0m\u001b[1;33m(\u001b[0m\u001b[1;34m\"C:\\\\Users\\CSE22004\\Desktop\\anitha.txt\"\u001b[0m\u001b[1;33m,\u001b[0m\u001b[1;34m\"r\"\u001b[0m\u001b[1;33m)\u001b[0m\u001b[1;33m\u001b[0m\u001b[1;33m\u001b[0m\u001b[0m\n\u001b[0m\u001b[0;32m      2\u001b[0m \u001b[0mprint\u001b[0m\u001b[1;33m(\u001b[0m\u001b[0mf\u001b[0m\u001b[1;33m.\u001b[0m\u001b[0mread\u001b[0m\u001b[1;33m(\u001b[0m\u001b[1;33m)\u001b[0m\u001b[1;33m)\u001b[0m\u001b[1;33m\u001b[0m\u001b[1;33m\u001b[0m\u001b[0m\n",
      "\u001b[1;31mOSError\u001b[0m: [Errno 22] Invalid argument: 'C:\\\\Users\\\\CSE22004\\\\Desktop\\x07nitha.txt'"
     ]
    }
   ],
   "source": [
    "f=open(\"C:\\\\Users\\CSE22004\\Desktop\\anitha.txt\",\"r\")\n",
    "print(f.read())"
   ]
  },
  {
   "cell_type": "code",
   "execution_count": 2,
   "id": "13adc8e7",
   "metadata": {},
   "outputs": [
    {
     "name": "stdout",
     "output_type": "stream",
     "text": [
      "anitha is doing work\n"
     ]
    }
   ],
   "source": [
    "f=open(\"D:\\\\anitha.txt\",\"r\")\n",
    "print(f.read())"
   ]
  },
  {
   "cell_type": "code",
   "execution_count": 3,
   "id": "c38e70af",
   "metadata": {},
   "outputs": [
    {
     "name": "stdout",
     "output_type": "stream",
     "text": [
      "anitha is doing work\n"
     ]
    }
   ],
   "source": [
    "f=open(\"D:\\\\anitha.txt\",\"r\")\n",
    "print(f.readline())\n",
    "f.close()"
   ]
  },
  {
   "cell_type": "code",
   "execution_count": 3,
   "id": "1aff4671",
   "metadata": {},
   "outputs": [
    {
     "name": "stdout",
     "output_type": "stream",
     "text": [
      "ani\n"
     ]
    }
   ],
   "source": [
    "f=open(\"D:\\\\anitha.txt\",\"r\")\n",
    "print(f.read(3))"
   ]
  },
  {
   "cell_type": "code",
   "execution_count": 7,
   "id": "ea1bce08",
   "metadata": {},
   "outputs": [],
   "source": [
    "##writing a file\n",
    "f=open(\"D:\\\\anitha.txt\",\"a\")\n",
    "f.write(\"\\nshe is studying in gitam\")\n",
    "f.close()"
   ]
  },
  {
   "cell_type": "code",
   "execution_count": 8,
   "id": "7fab6ea3",
   "metadata": {},
   "outputs": [],
   "source": [
    "f=open(\"D:\\\\anitha.txt\",\"w\")\n",
    "f.write(\"\\nshe is studying in gitam\")\n",
    "f.close()"
   ]
  },
  {
   "cell_type": "code",
   "execution_count": 9,
   "id": "5a6ca028",
   "metadata": {},
   "outputs": [
    {
     "name": "stdout",
     "output_type": "stream",
     "text": [
      "\n",
      "\n",
      "she is studying in gitam\n"
     ]
    }
   ],
   "source": [
    "##copy a file\n",
    "f=open(\"D:\\\\anitha.txt\",\"r\")\n",
    "for a in f:\n",
    "    print(a)\n"
   ]
  },
  {
   "cell_type": "code",
   "execution_count": 23,
   "id": "8776bd2e",
   "metadata": {},
   "outputs": [],
   "source": [
    "f=open(\"D:\\\\anitha.txt\",\"r\")\n",
    "b=f.readlines()\n",
    "f.close()\n",
    "f1=open(\"D:\\\\anitha.txt\",\"w\")\n",
    "f1.writelines(b)\n",
    "f1.close()\n",
    "f2=open(\"D:\\\\anitha.txt\",\"r\")\n",
    "for i in f2:\n",
    "    print(i)\n",
    "f2.close()\n",
    "\n"
   ]
  },
  {
   "cell_type": "code",
   "execution_count": 28,
   "id": "c2bbe8e0",
   "metadata": {},
   "outputs": [],
   "source": [
    "##creating a file\n",
    "f=open(\"D:\\\\python272.txt\",\"x\")\n",
    "f.close()"
   ]
  },
  {
   "cell_type": "code",
   "execution_count": 29,
   "id": "a9e296e1",
   "metadata": {},
   "outputs": [],
   "source": [
    "f=open(\"D:\\\\python272.txt\",\"w\")\n",
    "f.write(\"anitha is good girl\\n\")\n",
    "f.close()"
   ]
  },
  {
   "cell_type": "code",
   "execution_count": null,
   "id": "5e86405a",
   "metadata": {},
   "outputs": [],
   "source": []
  }
 ],
 "metadata": {
  "kernelspec": {
   "display_name": "Python 3 (ipykernel)",
   "language": "python",
   "name": "python3"
  },
  "language_info": {
   "codemirror_mode": {
    "name": "ipython",
    "version": 3
   },
   "file_extension": ".py",
   "mimetype": "text/x-python",
   "name": "python",
   "nbconvert_exporter": "python",
   "pygments_lexer": "ipython3",
   "version": "3.9.7"
  }
 },
 "nbformat": 4,
 "nbformat_minor": 5
}
