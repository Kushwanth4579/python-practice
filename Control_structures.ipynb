{
  "nbformat": 4,
  "nbformat_minor": 0,
  "metadata": {
    "colab": {
      "name": "Control structures.ipynb",
      "provenance": [],
      "authorship_tag": "ABX9TyO0CQw2EAONuV9CQTvr+QMy",
      "include_colab_link": true
    },
    "kernelspec": {
      "name": "python3",
      "display_name": "Python 3"
    },
    "language_info": {
      "name": "python"
    }
  },
  "cells": [
    {
      "cell_type": "markdown",
      "metadata": {
        "id": "view-in-github",
        "colab_type": "text"
      },
      "source": [
        "<a href=\"https://colab.research.google.com/github/Kushwanth4579/python-practice/blob/module-1/Control_structures.ipynb\" target=\"_parent\"><img src=\"https://colab.research.google.com/assets/colab-badge.svg\" alt=\"Open In Colab\"/></a>"
      ]
    },
    {
      "cell_type": "code",
      "execution_count": 6,
      "metadata": {
        "colab": {
          "base_uri": "https://localhost:8080/"
        },
        "id": "-FZI5TJjPmPh",
        "outputId": "2c3fd16b-78a1-41dc-a361-9ceeae1cb5b2"
      },
      "outputs": [
        {
          "output_type": "stream",
          "name": "stdout",
          "text": [
            "enter the age 12\n",
            "not eligible\n"
          ]
        }
      ],
      "source": [
        "#program to write if a person is eligible for vote or not\n",
        "a=int(input(\"enter the age \"))\n",
        "if a>=18:\n",
        "  print(\"eligible\")\n",
        "else:\n",
        "   print(\"not eligible\")"
      ]
    },
    {
      "cell_type": "code",
      "source": [
        "#find whwather a triangle is equilateral,sclene,isosecles\n",
        "a=float(input(\"enter a \"))\n",
        "b=float(input(\"enter b \"))\n",
        "c=float(input(\"enter c \"))\n",
        "if a==b and b==c and c==a :\n",
        "  print(\"triangle is equilateral\")\n",
        "elif a!=b and b!=c and c!=a :\n",
        "  print(\"triangle is scalene\")\n",
        "else :\n",
        "  print(\"triangle is isoceles\")6\n",
        "  "
      ],
      "metadata": {
        "colab": {
          "base_uri": "https://localhost:8080/"
        },
        "id": "69C8l7JWRE-X",
        "outputId": "430ae810-fff6-4345-e151-51a6d5d630c2"
      },
      "execution_count": 25,
      "outputs": [
        {
          "output_type": "stream",
          "name": "stdout",
          "text": [
            "enter a 5\n",
            "enter b 7\n",
            "enter c 4\n",
            "triangle is scalene\n"
          ]
        }
      ]
    },
    {
      "cell_type": "code",
      "source": [
        "#leap year\n",
        "a=int(input(\"enter the year \"))\n",
        "if a%400==0 :\n",
        "   print(\"leap year\")\n",
        "elif a%4==0 and a%100!=0 :\n",
        "  print(\"leap year\")\n",
        "else :\n",
        "   print(\"not an leap year\")\n",
        " \n"
      ],
      "metadata": {
        "colab": {
          "base_uri": "https://localhost:8080/"
        },
        "id": "tfzIfkQtXB_n",
        "outputId": "2457f31a-777b-477a-956c-c501611d03b6"
      },
      "execution_count": 41,
      "outputs": [
        {
          "output_type": "stream",
          "name": "stdout",
          "text": [
            "enter the year 2012\n",
            "leap year\n"
          ]
        }
      ]
    },
    {
      "cell_type": "code",
      "source": [
        "#number is positiive,negative ,zero\n",
        "a=int(input(\"enter a number \"))\n",
        "if a>0 :\n",
        "  print(\"number is positive\")\n",
        "elif a<0 :\n",
        "  print(\"number is negative\")\n",
        "else :\n",
        "  print(\"number is 0\")\n"
      ],
      "metadata": {
        "colab": {
          "base_uri": "https://localhost:8080/"
        },
        "id": "ERxVoFKcd67W",
        "outputId": "7f5bb713-ed33-47a2-edf5-213c45488b80"
      },
      "execution_count": 44,
      "outputs": [
        {
          "output_type": "stream",
          "name": "stdout",
          "text": [
            "enter a number -4\n",
            "number is negative\n"
          ]
        }
      ]
    },
    {
      "cell_type": "code",
      "source": [
        "#check whaether is divisible by 5 and 11 or not\n",
        "a=int(input(\"enter a number \"))\n",
        "if a%5==0 and a%11==0 :\n",
        "  print(\"divisible\")\n",
        "else :\n",
        "  print(\"not divisible\")"
      ],
      "metadata": {
        "colab": {
          "base_uri": "https://localhost:8080/"
        },
        "id": "E114zeTBZSUO",
        "outputId": "473981c2-ce53-4a31-f5c6-99c0cc7e71ad"
      },
      "execution_count": 34,
      "outputs": [
        {
          "output_type": "stream",
          "name": "stdout",
          "text": [
            "enter a number 10\n",
            "not divisible\n"
          ]
        }
      ]
    },
    {
      "cell_type": "code",
      "source": [
        ""
      ],
      "metadata": {
        "id": "-l83Y5RvZzuW"
      },
      "execution_count": null,
      "outputs": []
    },
    {
      "cell_type": "code",
      "source": [
        "#find maximun of 3 numbers\n",
        "a=float(input(\"enter a\"))\n",
        "b=float(input(\"enter b\"))\n",
        "c=float(input(\"enter c\"))\n",
        "if a>b and a>c  :\n",
        "     print(\"a is greatest\")\n",
        "elif b>c  :\n",
        "     print(\"b is greatest\")\n",
        "else :\n",
        "     print(\"c is greatest\")"
      ],
      "metadata": {
        "colab": {
          "base_uri": "https://localhost:8080/"
        },
        "id": "SeZkSQ3XRxmf",
        "outputId": "cab85466-d781-47a8-b6bd-95d618a96fe0"
      },
      "execution_count": 15,
      "outputs": [
        {
          "output_type": "stream",
          "name": "stdout",
          "text": [
            "enter a5\n",
            "enter b7\n",
            "enter c9\n",
            "c is greatest\n"
          ]
        }
      ]
    },
    {
      "cell_type": "code",
      "source": [
        "#greatest of 5 subject marks\n",
        "\n",
        "a=float(input(\"enter s1 marks\"))\n",
        "b=float(input(\"enter s2 marks\"))\n",
        "c=float(input(\"enter s3 marks\"))\n",
        "d=float(input(\"enter s4 marks\"))\n",
        "e=float(input(\"enter s5 marks\"))\n",
        "f=max(a,b,c,d,e)\n",
        "print(f)"
      ],
      "metadata": {
        "colab": {
          "base_uri": "https://localhost:8080/"
        },
        "id": "CDLICKmLT8aX",
        "outputId": "ae990f59-8041-4766-ab81-4e66cfdc3c87"
      },
      "execution_count": 20,
      "outputs": [
        {
          "output_type": "stream",
          "name": "stdout",
          "text": [
            "enter s1 marks15\n",
            "enter s2 marks56\n",
            "enter s3 marks99\n",
            "enter s4 marks67\n",
            "enter s5 marks34\n",
            "99.0\n"
          ]
        }
      ]
    }
  ]
}