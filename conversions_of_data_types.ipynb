{
  "cells": [
    {
      "cell_type": "markdown",
      "metadata": {
        "id": "view-in-github",
        "colab_type": "text"
      },
      "source": [
        "<a href=\"https://colab.research.google.com/github/Kushwanth4579/python-practice/blob/module-1/conversions_of_data_types.ipynb\" target=\"_parent\"><img src=\"https://colab.research.google.com/assets/colab-badge.svg\" alt=\"Open In Colab\"/></a>"
      ]
    },
    {
      "cell_type": "markdown",
      "id": "417dc770",
      "metadata": {
        "id": "417dc770"
      },
      "source": [
        "# DATA TYPES IN PYTHON"
      ]
    },
    {
      "cell_type": "markdown",
      "id": "b51a557d",
      "metadata": {
        "id": "b51a557d"
      },
      "source": [
        "## converting int to string,float,boolean,complex\n"
      ]
    },
    {
      "cell_type": "code",
      "execution_count": null,
      "id": "687d1aee",
      "metadata": {
        "colab": {
          "base_uri": "https://localhost:8080/"
        },
        "id": "687d1aee",
        "outputId": "4cf4dbdb-a4f0-4433-d3a3-6a7253bd3cfd"
      },
      "outputs": [
        {
          "output_type": "stream",
          "name": "stdout",
          "text": [
            "<class 'int'>\n",
            "10\n",
            "<class 'str'>\n",
            "10\n",
            "<class 'float'>\n",
            "10.0\n",
            "True\n",
            "<class 'bool'>\n",
            "(10+0j)\n",
            "<class 'complex'>\n"
          ]
        }
      ],
      "source": [
        "a=10\n",
        "print(type(a))\n",
        "print(a)\n",
        "# before conversion \n",
        "b=str(a)\n",
        "print(type(b))\n",
        "print(b)\n",
        "# after coversion\n",
        "c=float(a)\n",
        "print(type(c))\n",
        "print(c)\n",
        "d=bool(a)\n",
        "print(d)\n",
        "print(type(d))\n",
        "e=complex(a)\n",
        "print(e)\n",
        "print(type(e))"
      ]
    },
    {
      "cell_type": "markdown",
      "id": "6479e753",
      "metadata": {
        "id": "6479e753"
      },
      "source": [
        "## coverting string to int,float,boolean,complex"
      ]
    },
    {
      "cell_type": "code",
      "execution_count": null,
      "id": "d05d8040",
      "metadata": {
        "id": "d05d8040",
        "outputId": "384afe13-c411-42e7-f764-030ea16a6ccc"
      },
      "outputs": [
        {
          "name": "stdout",
          "output_type": "stream",
          "text": [
            "<class 'str'>\n",
            "10\n",
            "<class 'int'>\n",
            "10\n",
            "<class 'float'>\n",
            "10.0\n",
            "<class 'bool'>\n",
            "True\n",
            "<class 'complex'>\n",
            "(10+0j)\n"
          ]
        }
      ],
      "source": [
        "a='10'\n",
        "print(type(a))\n",
        "print(a)\n",
        "b=int(a)\n",
        "print(type(b))\n",
        "print(b)\n",
        "# cant convert alphabets into digits, instead of alphabets give digits 0-9\n",
        "c=float(a)\n",
        "print(type(c))\n",
        "print(c)\n",
        "d=bool(a)\n",
        "print(type(d))\n",
        "print(d)\n",
        "e=complex(a)\n",
        "print(type(e))\n",
        "print(e)"
      ]
    },
    {
      "cell_type": "markdown",
      "id": "0f797148",
      "metadata": {
        "id": "0f797148"
      },
      "source": [
        "## convert float into int,string,boolean,complex"
      ]
    },
    {
      "cell_type": "code",
      "execution_count": null,
      "id": "a2c0ff56",
      "metadata": {
        "id": "a2c0ff56",
        "outputId": "d82a88ec-21da-4c61-fc8c-27152e8d5589"
      },
      "outputs": [
        {
          "name": "stdout",
          "output_type": "stream",
          "text": [
            "<class 'float'>\n",
            "10.5\n",
            "<class 'int'>\n",
            "10\n",
            "<class 'str'>\n",
            "10.5\n",
            "<class 'bool'>\n",
            "True\n",
            "<class 'complex'>\n",
            "(10.5+0j)\n"
          ]
        }
      ],
      "source": [
        "a= 10.5\n",
        "print(type(a))\n",
        "print(a)\n",
        "b=int(a)\n",
        "print(type(b))\n",
        "print(b)\n",
        "c=str(a)\n",
        "print(type(c))\n",
        "print(c)\n",
        "d=bool(a)\n",
        "print(type(d))\n",
        "print(d)\n",
        "e=complex(a)\n",
        "print(type(e))\n",
        "print(e)"
      ]
    },
    {
      "cell_type": "markdown",
      "id": "9762376e",
      "metadata": {
        "id": "9762376e"
      },
      "source": [
        "## convert boolean into int,float,string,complex"
      ]
    },
    {
      "cell_type": "code",
      "execution_count": null,
      "id": "d7b7919c",
      "metadata": {
        "id": "d7b7919c",
        "outputId": "39d42c4a-edad-4edc-d9d0-94a4954263a3"
      },
      "outputs": [
        {
          "name": "stdout",
          "output_type": "stream",
          "text": [
            "<class 'bool'>\n",
            "True\n",
            "<class 'int'>\n",
            "1\n",
            "<class 'str'>\n",
            "True\n",
            "<class 'float'>\n",
            "1.0\n",
            "<class 'complex'>\n",
            "(1+0j)\n"
          ]
        }
      ],
      "source": [
        "a=True\n",
        "print(type(a))\n",
        "print(a)\n",
        "b=int(a)\n",
        "print(type(b))\n",
        "print(b)\n",
        "c=str(a)\n",
        "print(type(c))\n",
        "print(c)\n",
        "d=bool(a)\n",
        "print(type(d))\n",
        "print(d)\n",
        "e=complex(a)\n",
        "print(type(e))\n",
        "print(e)"
      ]
    },
    {
      "cell_type": "markdown",
      "id": "efb978b3",
      "metadata": {
        "id": "efb978b3"
      },
      "source": [
        "## convert complex into int,float,string,boolean "
      ]
    },
    {
      "cell_type": "code",
      "execution_count": null,
      "id": "d04220ff",
      "metadata": {
        "colab": {
          "base_uri": "https://localhost:8080/"
        },
        "id": "d04220ff",
        "outputId": "597fdfd5-2c9c-4e1f-fc50-5360a66bc43d"
      },
      "outputs": [
        {
          "output_type": "stream",
          "name": "stdout",
          "text": [
            "<class 'complex'>\n",
            "(10+0j)\n",
            "<class 'str'>\n",
            "10\n",
            "<class 'str'>\n",
            "(10+0j)\n",
            "<class 'bool'>\n",
            "True\n",
            "<class 'complex'>\n",
            "(10+0j)\n"
          ]
        }
      ],
      "source": [
        "a=(10+0j)\n",
        "print(type(a))\n",
        "print(a)\n",
        "#b=int(a)\n",
        "print(type(b))\n",
        "print(b)\n",
        "c=str(a)\n",
        "print(type(c))\n",
        "print(c)\n",
        "d=bool(a)\n",
        "print(type(d))\n",
        "print(d)\n",
        "#e=float(a)\n",
        "print(type(e))\n",
        "print(e)"
      ]
    },
    {
      "cell_type": "code",
      "execution_count": null,
      "id": "cc484ae5",
      "metadata": {
        "id": "cc484ae5"
      },
      "outputs": [],
      "source": [
        ""
      ]
    }
  ],
  "metadata": {
    "kernelspec": {
      "display_name": "Python 3 (ipykernel)",
      "language": "python",
      "name": "python3"
    },
    "language_info": {
      "codemirror_mode": {
        "name": "ipython",
        "version": 3
      },
      "file_extension": ".py",
      "mimetype": "text/x-python",
      "name": "python",
      "nbconvert_exporter": "python",
      "pygments_lexer": "ipython3",
      "version": "3.9.7"
    },
    "colab": {
      "name": " conversions of data types.ipynb",
      "provenance": [],
      "include_colab_link": true
    }
  },
  "nbformat": 4,
  "nbformat_minor": 5
}