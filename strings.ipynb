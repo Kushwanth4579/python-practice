{
  "nbformat": 4,
  "nbformat_minor": 0,
  "metadata": {
    "colab": {
      "name": "strings.ipynb",
      "provenance": [],
      "authorship_tag": "ABX9TyM4TvgR2uzXMKdi1yZ1feMf",
      "include_colab_link": true
    },
    "kernelspec": {
      "name": "python3",
      "display_name": "Python 3"
    },
    "language_info": {
      "name": "python"
    }
  },
  "cells": [
    {
      "cell_type": "markdown",
      "metadata": {
        "id": "view-in-github",
        "colab_type": "text"
      },
      "source": [
        "<a href=\"https://colab.research.google.com/github/Kushwanth4579/python-practice/blob/module-1/strings.ipynb\" target=\"_parent\"><img src=\"https://colab.research.google.com/assets/colab-badge.svg\" alt=\"Open In Colab\"/></a>"
      ]
    },
    {
      "cell_type": "code",
      "execution_count": 4,
      "metadata": {
        "colab": {
          "base_uri": "https://localhost:8080/"
        },
        "id": "1y0XU0XF90EM",
        "outputId": "13e25450-a0da-48a9-d3f8-61c4162d5290"
      },
      "outputs": [
        {
          "output_type": "stream",
          "name": "stdout",
          "text": [
            "enter name: kushwanth\n",
            "enter address: arilova\n",
            "name is  kushwanth\n",
            "arilova\n",
            "7\n"
          ]
        }
      ],
      "source": [
        "#length of string\n",
        "a=str(input(\"enter name: \"))\n",
        "b=str(input(\"enter address: \"))\n",
        "print(\"name is \",a)\n",
        "print(b)\n",
        "print(len(b))"
      ]
    },
    {
      "cell_type": "code",
      "source": [
        "#checking a string is existing or not\n",
        "a='abhinav is playboy'\n",
        "print('playboy' in a)\n",
        "print('la' in a)"
      ],
      "metadata": {
        "colab": {
          "base_uri": "https://localhost:8080/"
        },
        "id": "wAh1xWww_y2-",
        "outputId": "2e2e11c1-a928-4722-c597-991a5c12a698"
      },
      "execution_count": 8,
      "outputs": [
        {
          "output_type": "stream",
          "name": "stdout",
          "text": [
            "True\n",
            "True\n"
          ]
        }
      ]
    },
    {
      "cell_type": "code",
      "source": [
        "#if not\n",
        "a='abhinav is playboy'\n",
        "print('is' not in a)\n",
        "print('abhi' in a)\n",
        "print('class' in a,'abhi' in a)"
      ],
      "metadata": {
        "colab": {
          "base_uri": "https://localhost:8080/"
        },
        "id": "5he7JRPmAlwO",
        "outputId": "0a0cfb66-09bb-4aa0-fb34-28394cd7032f"
      },
      "execution_count": 12,
      "outputs": [
        {
          "output_type": "stream",
          "name": "stdout",
          "text": [
            "False\n",
            "True\n",
            "False True\n"
          ]
        }
      ]
    },
    {
      "cell_type": "code",
      "source": [
        "#slicing string\n",
        "a='kushwanth'\n",
        "print(a[2:6])\n",
        "print(a[4:-2])"
      ],
      "metadata": {
        "colab": {
          "base_uri": "https://localhost:8080/"
        },
        "id": "5wfhLxKOCrhH",
        "outputId": "987cae8f-8b84-4a7b-8670-26faddcf4dbc"
      },
      "execution_count": 17,
      "outputs": [
        {
          "output_type": "stream",
          "name": "stdout",
          "text": [
            "shwa\n",
            "wan\n"
          ]
        }
      ]
    },
    {
      "cell_type": "code",
      "source": [
        "#reverse of a string\n",
        "a='kushwanth'\n",
        "print(a[::])"
      ],
      "metadata": {
        "colab": {
          "base_uri": "https://localhost:8080/"
        },
        "id": "D_D7fzFr96Q-",
        "outputId": "72a04be9-59df-4503-9df4-36433ab014e1"
      },
      "execution_count": 24,
      "outputs": [
        {
          "output_type": "stream",
          "name": "stdout",
          "text": [
            "kushwanth\n"
          ]
        }
      ]
    },
    {
      "cell_type": "code",
      "source": [
        "#modifyig string\n",
        "a='kushwanth'\n",
        "print(a.upper())\n",
        "print(a.lower())\n",
        "print(a.strip())\n",
        "print(a.replace('anth','ANTH'))\n",
        "print(a.capitalize())\n",
        "print(a.split('wanth'))"
      ],
      "metadata": {
        "colab": {
          "base_uri": "https://localhost:8080/"
        },
        "id": "WOkWFCCOGIhd",
        "outputId": "9c553366-6829-4edf-fbc0-29e5242cf093"
      },
      "execution_count": 33,
      "outputs": [
        {
          "output_type": "stream",
          "name": "stdout",
          "text": [
            "KUSHWANTH\n",
            "kushwanth\n",
            "kushwanth\n",
            "kushwANTH\n",
            "Kushwanth\n",
            "['kush', '']\n"
          ]
        }
      ]
    },
    {
      "cell_type": "code",
      "source": [
        "#string concatenation\n",
        "a='kushwanth is'\n",
        "b=' a good boy'\n",
        "c=a+b\n",
        "print(c)\n"
      ],
      "metadata": {
        "colab": {
          "base_uri": "https://localhost:8080/"
        },
        "id": "xwELNGNKKAsD",
        "outputId": "b1a09506-c689-4ace-a0e7-0b08c1e1c70c"
      },
      "execution_count": 35,
      "outputs": [
        {
          "output_type": "stream",
          "name": "stdout",
          "text": [
            "kushwanth is a good boy\n"
          ]
        }
      ]
    },
    {
      "cell_type": "code",
      "source": [
        "#format string\n",
        "a=18\n",
        "n='my name is kushwanth,my age is {}'\n",
        "print(n.format(a))"
      ],
      "metadata": {
        "colab": {
          "base_uri": "https://localhost:8080/"
        },
        "id": "oxtW06IiNXGW",
        "outputId": "bff9e0b6-0917-4c54-fcb8-18803ea95818"
      },
      "execution_count": 41,
      "outputs": [
        {
          "output_type": "stream",
          "name": "stdout",
          "text": [
            "my name is kushwanth,my age is 18\n"
          ]
        }
      ]
    },
    {
      "cell_type": "code",
      "source": [
        "#esacpe characters\n",
        "a='omsri is a\\r play boy'\n",
        "print(a)"
      ],
      "metadata": {
        "colab": {
          "base_uri": "https://localhost:8080/"
        },
        "id": "8cfGcqMwPg6m",
        "outputId": "2d50dcd8-1357-4ea3-92d7-93aafa4620a9"
      },
      "execution_count": 55,
      "outputs": [
        {
          "output_type": "stream",
          "name": "stdout",
          "text": [
            "omsri is a\r play boy\n"
          ]
        }
      ]
    }
  ]
}